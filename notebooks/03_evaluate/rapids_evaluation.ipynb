{
 "cells": [
  {
   "cell_type": "markdown",
   "metadata": {},
   "source": [
    "<i>Copyright (c) Microsoft Corporation. All rights reserved.</i>\n",
    "\n",
    "<i>Licensed under the MIT License.</i>"
   ]
  },
  {
   "cell_type": "markdown",
   "metadata": {},
   "source": [
    "# RAPIDS Evaluation"
   ]
  },
  {
   "cell_type": "markdown",
   "metadata": {},
   "source": [
    "[RAPIDS](https://rapids.ai/about.html) is an open source software libraries and APIs to provide ability to execute end-to-end data science and analytics pipelines entirely on **GPU**. It is designed to have a familiar look and feel to data scientist working in Python. Our repository implements recommender's common evaluation metrics by utilizing RAPIDS [cuDF](https://docs.rapids.ai/api/cudf/stable/) to speed up the calculation so that users can use that if their computing environment meets the RAPIDS requirements. \n",
    "\n",
    "This notebook benchmarks speed of evaluation metric calculations based on Pandas DataFrame vs. cuDF DataFrame.\n",
    "\n",
    "#### Requirements (v0.8)\n",
    "* GPU: NVIDIA Pascal™ or better with compute capability 6.0+\n",
    "  - Azure Data Science Virtual Machine (DSVM) [NC6v2](https://docs.microsoft.com/en-us/azure/virtual-machines/linux/sizes-gpu#ncv2-series) or [NC6v3](https://docs.microsoft.com/en-us/azure/virtual-machines/linux/sizes-gpu#ncv3-series) are good computing resources to start with \n",
    "* Supported OS: Ubuntu 16.04/18.04 or CentOS 7 with gcc 5.4 & 7.3\n",
    "* To use docker - Docker CE v18+ and NVIDIA-docker v2+\n",
    "* CUDA: 9.2 with driver v396.37+ or 10.0 with driver v410.48+\n",
    "  - CUDA 10.1 is not supported in v0.8, support will be added soon\n",
    "  \n",
    "#### Installation\n",
    "For now, recommender repository SETUP doesn't officially support RAPIDS environment because of the (relatively) hard requirements described above. To setup,\n",
    "run following command on the machine that meets the requirement.\n",
    "```\n",
    "# TODO\n",
    "```"
   ]
  },
  {
   "cell_type": "markdown",
   "metadata": {},
   "source": [
    "## 0 Global settings"
   ]
  },
  {
   "cell_type": "code",
   "execution_count": 1,
   "metadata": {},
   "outputs": [],
   "source": [
    "%reload_ext autoreload\n",
    "%autoreload 2\n",
    "%matplotlib inline"
   ]
  },
  {
   "cell_type": "code",
   "execution_count": 2,
   "metadata": {},
   "outputs": [
    {
     "name": "stdout",
     "output_type": "stream",
     "text": [
      "Pandas version: 0.24.2\n",
      "CuDF version: 0.8.0+0.g8fa7bd3.dirty\n"
     ]
    }
   ],
   "source": [
    "# set the environment path to find Recommenders\n",
    "import sys\n",
    "sys.path.append(\"../../\")\n",
    "import math\n",
    "import time\n",
    "\n",
    "import cudf as cu\n",
    "import numpy as np\n",
    "import pandas as pd\n",
    "\n",
    "from reco_utils.common.constants import (\n",
    "    DEFAULT_USER_COL as USER_COL,\n",
    "    DEFAULT_ITEM_COL as ITEM_COL,\n",
    "    DEFAULT_RATING_COL as RATING_COL,\n",
    "    DEFAULT_PREDICTION_COL as PREDICT_COL,\n",
    ")\n",
    "from reco_utils.common.plot import bar_chart\n",
    "from reco_utils.dataset import movielens\n",
    "from reco_utils.dataset.pandas_df_utils import user_item_pairs\n",
    "from reco_utils.dataset.python_splitters import python_random_split\n",
    "import reco_utils.evaluation.python_evaluation as pd_evaluator\n",
    "import reco_utils.evaluation.rapids_evaluation as cu_evaluator\n",
    "\n",
    "print(\"Pandas version: {}\".format(pd.__version__))\n",
    "print(\"CuDF version: {}\".format(cu.__version__))"
   ]
  },
  {
   "cell_type": "code",
   "execution_count": 3,
   "metadata": {},
   "outputs": [],
   "source": [
    "MOVIELENS_DATA_SIZE = '100k'"
   ]
  },
  {
   "cell_type": "markdown",
   "metadata": {},
   "source": [
    "## 1 Prepare data"
   ]
  },
  {
   "cell_type": "markdown",
   "metadata": {},
   "source": [
    "### 1.1 Prepare dummy data"
   ]
  },
  {
   "cell_type": "markdown",
   "metadata": {},
   "source": [
    "For illustration purpose, a dummy data set is created for demonstrating how different evaluation metrics work. \n",
    "\n",
    "The data has the schema that can be frequently found in a recommendation problem, that is, each row in the dataset is a (user, item, rating) tuple, where \"rating\" can be an ordinal rating score (e.g., discrete integers of 1, 2, 3, etc.) or an numerical float number that quantitatively indicates the preference of the user towards that item. \n",
    "\n",
    "For simplicity reason, the column of rating in the dummy dataset we use in the example represent some ordinal ratings."
   ]
  },
  {
   "cell_type": "code",
   "execution_count": 4,
   "metadata": {},
   "outputs": [
    {
     "name": "stderr",
     "output_type": "stream",
     "text": [
      "100%|██████████| 4.81k/4.81k [00:00<00:00, 18.3kKB/s]\n"
     ]
    },
    {
     "data": {
      "text/html": [
       "<div>\n",
       "<style scoped>\n",
       "    .dataframe tbody tr th:only-of-type {\n",
       "        vertical-align: middle;\n",
       "    }\n",
       "\n",
       "    .dataframe tbody tr th {\n",
       "        vertical-align: top;\n",
       "    }\n",
       "\n",
       "    .dataframe thead th {\n",
       "        text-align: right;\n",
       "    }\n",
       "</style>\n",
       "<table border=\"1\" class=\"dataframe\">\n",
       "  <thead>\n",
       "    <tr style=\"text-align: right;\">\n",
       "      <th></th>\n",
       "      <th>userID</th>\n",
       "      <th>itemID</th>\n",
       "      <th>rating</th>\n",
       "    </tr>\n",
       "  </thead>\n",
       "  <tbody>\n",
       "    <tr>\n",
       "      <th>0</th>\n",
       "      <td>196</td>\n",
       "      <td>242</td>\n",
       "      <td>3.0</td>\n",
       "    </tr>\n",
       "    <tr>\n",
       "      <th>1</th>\n",
       "      <td>186</td>\n",
       "      <td>302</td>\n",
       "      <td>3.0</td>\n",
       "    </tr>\n",
       "    <tr>\n",
       "      <th>2</th>\n",
       "      <td>22</td>\n",
       "      <td>377</td>\n",
       "      <td>1.0</td>\n",
       "    </tr>\n",
       "    <tr>\n",
       "      <th>3</th>\n",
       "      <td>244</td>\n",
       "      <td>51</td>\n",
       "      <td>2.0</td>\n",
       "    </tr>\n",
       "    <tr>\n",
       "      <th>4</th>\n",
       "      <td>166</td>\n",
       "      <td>346</td>\n",
       "      <td>1.0</td>\n",
       "    </tr>\n",
       "  </tbody>\n",
       "</table>\n",
       "</div>"
      ],
      "text/plain": [
       "   userID  itemID  rating\n",
       "0     196     242     3.0\n",
       "1     186     302     3.0\n",
       "2      22     377     1.0\n",
       "3     244      51     2.0\n",
       "4     166     346     1.0"
      ]
     },
     "execution_count": 4,
     "metadata": {},
     "output_type": "execute_result"
    }
   ],
   "source": [
    "pd_data = movielens.load_pandas_df(\n",
    "    size=MOVIELENS_DATA_SIZE,\n",
    "    header=[USER_COL, ITEM_COL, RATING_COL],\n",
    ")\n",
    "pd_data.head()"
   ]
  },
  {
   "cell_type": "code",
   "execution_count": 5,
   "metadata": {},
   "outputs": [
    {
     "data": {
      "text/html": [
       "<div>\n",
       "<style scoped>\n",
       "    .dataframe tbody tr th:only-of-type {\n",
       "        vertical-align: middle;\n",
       "    }\n",
       "\n",
       "    .dataframe tbody tr th {\n",
       "        vertical-align: top;\n",
       "    }\n",
       "\n",
       "    .dataframe thead th {\n",
       "        text-align: right;\n",
       "    }\n",
       "</style>\n",
       "<table border=\"1\" class=\"dataframe\">\n",
       "  <thead>\n",
       "    <tr style=\"text-align: right;\">\n",
       "      <th></th>\n",
       "      <th>userID</th>\n",
       "      <th>itemID</th>\n",
       "      <th>prediction</th>\n",
       "    </tr>\n",
       "  </thead>\n",
       "  <tbody>\n",
       "    <tr>\n",
       "      <th>0</th>\n",
       "      <td>472</td>\n",
       "      <td>1075</td>\n",
       "      <td>1.340239</td>\n",
       "    </tr>\n",
       "    <tr>\n",
       "      <th>1</th>\n",
       "      <td>663</td>\n",
       "      <td>1177</td>\n",
       "      <td>2.561898</td>\n",
       "    </tr>\n",
       "    <tr>\n",
       "      <th>2</th>\n",
       "      <td>298</td>\n",
       "      <td>1676</td>\n",
       "      <td>4.464795</td>\n",
       "    </tr>\n",
       "    <tr>\n",
       "      <th>3</th>\n",
       "      <td>181</td>\n",
       "      <td>74</td>\n",
       "      <td>2.654424</td>\n",
       "    </tr>\n",
       "    <tr>\n",
       "      <th>4</th>\n",
       "      <td>583</td>\n",
       "      <td>434</td>\n",
       "      <td>3.644670</td>\n",
       "    </tr>\n",
       "  </tbody>\n",
       "</table>\n",
       "</div>"
      ],
      "text/plain": [
       "   userID  itemID  prediction\n",
       "0     472    1075    1.340239\n",
       "1     663    1177    2.561898\n",
       "2     298    1676    4.464795\n",
       "3     181      74    2.654424\n",
       "4     583     434    3.644670"
      ]
     },
     "execution_count": 5,
     "metadata": {},
     "output_type": "execute_result"
    }
   ],
   "source": [
    "items = pd_data.drop_duplicates(ITEM_COL)[[ITEM_COL]].reset_index(drop=True)\n",
    "users = pd_data.drop_duplicates(USER_COL)[[USER_COL]].reset_index(drop=True)\n",
    "\n",
    "pd_pred = user_item_pairs(\n",
    "    user_df=users,\n",
    "    item_df=items,\n",
    "    user_col=USER_COL,\n",
    "    item_col=ITEM_COL,\n",
    ")\n",
    "pd_pred[PREDICT_COL] = np.random.uniform(low=0.0, high=5.0, size=len(pd_pred))\n",
    "\n",
    "pd_pred.head()"
   ]
  },
  {
   "cell_type": "code",
   "execution_count": 6,
   "metadata": {},
   "outputs": [
    {
     "name": "stdout",
     "output_type": "stream",
     "text": [
      "Num data = 100000\n",
      "Num items = 1682\n",
      "Num users = 943\n",
      "Num predictions = 1586126\n"
     ]
    }
   ],
   "source": [
    "print(\n",
    "    \"Num data = {}\\n\"\n",
    "    \"Num items = {}\\n\"\n",
    "    \"Num users = {}\\n\"\n",
    "    \"Num predictions = {}\".format(len(pd_data), len(items), len(users), len(pd_pred))\n",
    ")"
   ]
  },
  {
   "cell_type": "code",
   "execution_count": 7,
   "metadata": {},
   "outputs": [],
   "source": [
    "cu_data = cu.from_pandas(pd_data)\n",
    "cu_pred = cu.from_pandas(pd_pred)"
   ]
  },
  {
   "cell_type": "markdown",
   "metadata": {},
   "source": [
    "## 2 Evaluation metrics"
   ]
  },
  {
   "cell_type": "code",
   "execution_count": 8,
   "metadata": {},
   "outputs": [],
   "source": [
    "cols = {\n",
    "    \"col_user\": USER_COL,\n",
    "    \"col_item\": ITEM_COL,\n",
    "    \"col_rating\": RATING_COL,\n",
    "    \"col_prediction\": PREDICT_COL,\n",
    "}"
   ]
  },
  {
   "cell_type": "code",
   "execution_count": 9,
   "metadata": {},
   "outputs": [],
   "source": [
    "DEFAULT_USER_COL = USER_COL\n",
    "DEFAULT_ITEM_COL = ITEM_COL\n",
    "DEFAULT_RATING_COL = RATING_COL\n",
    "DEFAULT_PREDICTION_COL = PREDICT_COL\n",
    "\n",
    "TOL = 0.0001"
   ]
  },
  {
   "cell_type": "markdown",
   "metadata": {},
   "source": [
    "### 2.1 Rating metrics"
   ]
  },
  {
   "cell_type": "markdown",
   "metadata": {},
   "source": [
    "#### 2.1.1 Root Mean Square Error (RMSE)"
   ]
  },
  {
   "cell_type": "code",
   "execution_count": 10,
   "metadata": {},
   "outputs": [
    {
     "name": "stdout",
     "output_type": "stream",
     "text": [
      "RMSE with Pandas = 2.0978447602797745, took 0.9886682033538818 seconds\n"
     ]
    }
   ],
   "source": [
    "start = time.time()\n",
    "pd_rmse = pd_evaluator.rmse(pd_data, pd_pred, **cols)\n",
    "pd_rmse_time = time.time() - start\n",
    "print(\"RMSE with Pandas = {}, took {} seconds\".format(pd_rmse, pd_rmse_time))"
   ]
  },
  {
   "cell_type": "code",
   "execution_count": 11,
   "metadata": {},
   "outputs": [
    {
     "name": "stdout",
     "output_type": "stream",
     "text": [
      "RMSE with Rapids.cuDF = 2.0978447602797736, took 0.018138647079467773 seconds\n"
     ]
    }
   ],
   "source": [
    "start = time.time()\n",
    "cu_rmse = cu_evaluator.rmse(cu_data, cu_pred, **cols)\n",
    "cu_rmse_time = time.time() - start\n",
    "print(\"RMSE with Rapids.cuDF = {}, took {} seconds\".format(cu_rmse, cu_rmse_time))"
   ]
  },
  {
   "cell_type": "code",
   "execution_count": 12,
   "metadata": {},
   "outputs": [],
   "source": [
    "assert math.isclose(pd_rmse, cu_rmse, rel_tol=1e-06, abs_tol=1e-06)"
   ]
  },
  {
   "cell_type": "markdown",
   "metadata": {},
   "source": [
    "#### 2.1.2 Mean Absolute Error (MAE)"
   ]
  },
  {
   "cell_type": "code",
   "execution_count": 13,
   "metadata": {},
   "outputs": [
    {
     "name": "stdout",
     "output_type": "stream",
     "text": [
      "MAE with Pandas = 1.7147999801440734, took 2.139920473098755 seconds\n"
     ]
    }
   ],
   "source": [
    "start = time.time()\n",
    "pd_mae = pd_evaluator.mae(pd_data, pd_pred, **cols)\n",
    "pd_mae_time = time.time() - start\n",
    "print(\"MAE with Pandas = {}, took {} seconds\".format(pd_mae, pd_mae_time))"
   ]
  },
  {
   "cell_type": "code",
   "execution_count": 14,
   "metadata": {},
   "outputs": [
    {
     "name": "stdout",
     "output_type": "stream",
     "text": [
      "MAE with Rapids.cuDF = 1.7147999801440732, took 0.0165407657623291 seconds\n"
     ]
    }
   ],
   "source": [
    "start = time.time()\n",
    "cu_mae = cu_evaluator.mae(cu_data, cu_pred, **cols)\n",
    "cu_mae_time = time.time() - start\n",
    "print(\"MAE with Rapids.cuDF = {}, took {} seconds\".format(cu_mae, cu_mae_time))"
   ]
  },
  {
   "cell_type": "code",
   "execution_count": 15,
   "metadata": {},
   "outputs": [],
   "source": [
    "assert math.isclose(pd_mae, cu_mae, rel_tol=1e-06, abs_tol=1e-06)"
   ]
  },
  {
   "cell_type": "markdown",
   "metadata": {},
   "source": [
    "#### 2.1.3 R-Squared"
   ]
  },
  {
   "cell_type": "code",
   "execution_count": 16,
   "metadata": {},
   "outputs": [
    {
     "name": "stdout",
     "output_type": "stream",
     "text": [
      "R2 with Pandas = -2.473170285116679, took 2.1319632530212402 seconds\n"
     ]
    }
   ],
   "source": [
    "start = time.time()\n",
    "pd_r2 = pd_evaluator.rsquared(pd_data, pd_pred, **cols)\n",
    "pd_r2_time = time.time() - start\n",
    "print(\"R2 with Pandas = {}, took {} seconds\".format(pd_r2, pd_r2_time))"
   ]
  },
  {
   "cell_type": "code",
   "execution_count": 17,
   "metadata": {},
   "outputs": [
    {
     "name": "stdout",
     "output_type": "stream",
     "text": [
      "R2 with Rapids.cuDF = -2.473170285116683, took 0.019441604614257812 seconds\n"
     ]
    }
   ],
   "source": [
    "start = time.time()\n",
    "cu_r2 = cu_evaluator.rsquared(cu_data, cu_pred, **cols)\n",
    "cu_r2_time = time.time() - start\n",
    "print(\"R2 with Rapids.cuDF = {}, took {} seconds\".format(cu_r2, cu_r2_time))"
   ]
  },
  {
   "cell_type": "code",
   "execution_count": 18,
   "metadata": {},
   "outputs": [],
   "source": [
    "assert math.isclose(pd_r2, cu_r2, rel_tol=1e-06, abs_tol=1e-06)"
   ]
  },
  {
   "cell_type": "markdown",
   "metadata": {},
   "source": [
    "#### 2.1.4 Explained Variance"
   ]
  },
  {
   "cell_type": "code",
   "execution_count": 19,
   "metadata": {},
   "outputs": [
    {
     "name": "stdout",
     "output_type": "stream",
     "text": [
      "Exp-var with Pandas = -1.64049949668278, took 2.2066686153411865 seconds\n"
     ]
    }
   ],
   "source": [
    "start = time.time()\n",
    "pd_evar = pd_evaluator.exp_var(pd_data, pd_pred, **cols)\n",
    "pd_evar_time = time.time() - start\n",
    "print(\"Exp-var with Pandas = {}, took {} seconds\".format(pd_evar, pd_evar_time))"
   ]
  },
  {
   "cell_type": "code",
   "execution_count": 21,
   "metadata": {},
   "outputs": [
    {
     "name": "stdout",
     "output_type": "stream",
     "text": [
      "Exp-var with Rapids.cuDF = -1.6404994966827782, took 0.019733190536499023 seconds\n"
     ]
    }
   ],
   "source": [
    "start = time.time()\n",
    "cu_evar = cu_evaluator.exp_var(cu_data, cu_pred, **cols)\n",
    "cu_evar_time = time.time() - start\n",
    "print(\"Exp-var with Rapids.cuDF = {}, took {} seconds\".format(cu_evar, cu_evar_time))"
   ]
  },
  {
   "cell_type": "code",
   "execution_count": 22,
   "metadata": {},
   "outputs": [],
   "source": [
    "assert math.isclose(pd_evar, cu_evar, rel_tol=1e-06, abs_tol=1e-06)"
   ]
  },
  {
   "cell_type": "markdown",
   "metadata": {},
   "source": [
    "#### 2.1.3 Summary"
   ]
  },
  {
   "cell_type": "code",
   "execution_count": 72,
   "metadata": {},
   "outputs": [
    {
     "data": {
      "image/png": "[encoded data removed]",
      "text/plain": [
       "<Figure size 432x288 with 1 Axes>"
      ]
     },
     "metadata": {
      "needs_background": "light"
     },
     "output_type": "display_data"
    }
   ],
   "source": [
    "values = [\n",
    "    [pd_rmse_time, pd_mae_time, pd_r2_time, pd_evar_time],\n",
    "    [cu_rmse_time, cu_mae_time, cu_r2_time, cu_evar_time]\n",
    "]\n",
    "labels = ['Pandas', 'cuDF']\n",
    "\n",
    "bar_chart(values, labels, errors=None, x_name=\"Rating metrics\", y_name=\"Time (sec)\",\n",
    "          tick_labels=['RMSE', 'MAE', 'R2', 'Exp-Var'])\n",
    "\n"
   ]
  },
  {
   "cell_type": "markdown",
   "metadata": {},
   "source": [
    "### 2.2 Ranking metrics"
   ]
  },
  {
   "cell_type": "code",
   "execution_count": 73,
   "metadata": {},
   "outputs": [],
   "source": [
    "DEFAULT_K = 10\n",
    "DEFAULT_THRESHOLD = 10"
   ]
  },
  {
   "cell_type": "markdown",
   "metadata": {},
   "source": [
    "#### 2.2.1 Precision"
   ]
  },
  {
   "cell_type": "code",
   "execution_count": 74,
   "metadata": {},
   "outputs": [
    {
     "name": "stdout",
     "output_type": "stream",
     "text": [
      "Precision at K with Pandas = 0.06299045599151644, took 2.638399839401245 seconds\n"
     ]
    }
   ],
   "source": [
    "start = time.time()\n",
    "pd_prec = pd_evaluator.precision_at_k(pd_data, pd_pred, k=DEFAULT_K, **cols)\n",
    "pd_prec_time = time.time() - start\n",
    "print(\"Precision at K with Pandas = {}, took {} seconds\".format(pd_prec, pd_prec_time))"
   ]
  },
  {
   "cell_type": "code",
   "execution_count": 75,
   "metadata": {},
   "outputs": [
    {
     "name": "stderr",
     "output_type": "stream",
     "text": [
      "WARNING:When using a sequence of booleans for `ascending`, `na_position` flag is not yet supported and defaults to treating nulls as greater than all numbers\n"
     ]
    },
    {
     "name": "stdout",
     "output_type": "stream",
     "text": [
      "Precision at K with Rapids.cuDF = 0.06299045760962768, took 0.9397478103637695 seconds\n"
     ]
    }
   ],
   "source": [
    "start = time.time()\n",
    "cu_prec = cu_evaluator.precision_at_k(cu_data, cu_pred, k=DEFAULT_K, **cols)\n",
    "cu_prec_time = time.time() - start\n",
    "print(\"Precision at K with Rapids.cuDF = {}, took {} seconds\".format(cu_prec, cu_prec_time))"
   ]
  },
  {
   "cell_type": "code",
   "execution_count": 76,
   "metadata": {},
   "outputs": [],
   "source": [
    "assert math.isclose(pd_prec, cu_prec, rel_tol=1e-06, abs_tol=1e-06)"
   ]
  },
  {
   "cell_type": "markdown",
   "metadata": {},
   "source": [
    "#### 2.2.2 Recall"
   ]
  },
  {
   "cell_type": "code",
   "execution_count": 77,
   "metadata": {},
   "outputs": [
    {
     "name": "stdout",
     "output_type": "stream",
     "text": [
      "Recall at K with Pandas = 0.006079194732546646, took 2.1746268272399902 seconds\n"
     ]
    }
   ],
   "source": [
    "start = time.time()\n",
    "pd_rec = pd_evaluator.recall_at_k(pd_data, pd_pred, k=DEFAULT_K, **cols)\n",
    "pd_rec_time = time.time() - start\n",
    "print(\"Recall at K with Pandas = {}, took {} seconds\".format(pd_rec, pd_rec_time))"
   ]
  },
  {
   "cell_type": "code",
   "execution_count": 78,
   "metadata": {},
   "outputs": [
    {
     "name": "stderr",
     "output_type": "stream",
     "text": [
      "WARNING:When using a sequence of booleans for `ascending`, `na_position` flag is not yet supported and defaults to treating nulls as greater than all numbers\n"
     ]
    },
    {
     "name": "stdout",
     "output_type": "stream",
     "text": [
      "Recall at K with Rapids.cuDF = 0.006079194732546647, took 0.21167564392089844 seconds\n"
     ]
    }
   ],
   "source": [
    "start = time.time()\n",
    "cu_rec = cu_evaluator.recall_at_k(cu_data, cu_pred, k=DEFAULT_K, **cols)\n",
    "cu_rec_time = time.time() - start\n",
    "print(\"Recall at K with Rapids.cuDF = {}, took {} seconds\".format(cu_rec, cu_rec_time))"
   ]
  },
  {
   "cell_type": "code",
   "execution_count": 79,
   "metadata": {},
   "outputs": [],
   "source": [
    "assert math.isclose(pd_rec, cu_rec, rel_tol=1e-06, abs_tol=1e-06)"
   ]
  },
  {
   "cell_type": "markdown",
   "metadata": {},
   "source": [
    "#### 2.2.3 Normalized Discounted Cumulative Gain (NDCG)"
   ]
  },
  {
   "cell_type": "code",
   "execution_count": 80,
   "metadata": {},
   "outputs": [
    {
     "name": "stdout",
     "output_type": "stream",
     "text": [
      "NDCG at K with Pandas = 0.06276571559517682, took 2.1781728267669678 seconds\n"
     ]
    }
   ],
   "source": [
    "start = time.time()\n",
    "pd_ndcg = pd_evaluator.ndcg_at_k(pd_data, pd_pred, k=DEFAULT_K, **cols)\n",
    "pd_ndcg_time = time.time() - start\n",
    "print(\"NDCG at K with Pandas = {}, took {} seconds\".format(pd_ndcg, pd_ndcg_time))"
   ]
  },
  {
   "cell_type": "code",
   "execution_count": 81,
   "metadata": {},
   "outputs": [
    {
     "name": "stderr",
     "output_type": "stream",
     "text": [
      "WARNING:When using a sequence of booleans for `ascending`, `na_position` flag is not yet supported and defaults to treating nulls as greater than all numbers\n"
     ]
    },
    {
     "name": "stdout",
     "output_type": "stream",
     "text": [
      "NDCG at K with Rapids.cuDF = 0.06276571559517682, took 0.5512564182281494 seconds\n"
     ]
    }
   ],
   "source": [
    "start = time.time()\n",
    "cu_ndcg = cu_evaluator.ndcg_at_k(cu_data, cu_pred, k=DEFAULT_K, **cols)\n",
    "cu_ndcg_time = time.time() - start\n",
    "print(\"NDCG at K with Rapids.cuDF = {}, took {} seconds\".format(cu_ndcg, cu_ndcg_time))"
   ]
  },
  {
   "cell_type": "code",
   "execution_count": 82,
   "metadata": {},
   "outputs": [],
   "source": [
    "assert math.isclose(pd_ndcg, cu_ndcg, rel_tol=1e-06, abs_tol=1e-06)"
   ]
  },
  {
   "cell_type": "markdown",
   "metadata": {},
   "source": [
    "#### 2.2.4 Mean Average Precision (MAP)"
   ]
  },
  {
   "cell_type": "code",
   "execution_count": 83,
   "metadata": {},
   "outputs": [
    {
     "name": "stdout",
     "output_type": "stream",
     "text": [
      "MAP at K with Pandas = 0.0020690229206157588, took 2.1639230251312256 seconds\n"
     ]
    }
   ],
   "source": [
    "start = time.time()\n",
    "pd_map = pd_evaluator.map_at_k(pd_data, pd_pred, k=DEFAULT_K, **cols)\n",
    "pd_map_time = time.time() - start\n",
    "print(\"MAP at K with Pandas = {}, took {} seconds\".format(pd_map, pd_map_time))"
   ]
  },
  {
   "cell_type": "code",
   "execution_count": 84,
   "metadata": {},
   "outputs": [
    {
     "name": "stderr",
     "output_type": "stream",
     "text": [
      "WARNING:When using a sequence of booleans for `ascending`, `na_position` flag is not yet supported and defaults to treating nulls as greater than all numbers\n"
     ]
    },
    {
     "name": "stdout",
     "output_type": "stream",
     "text": [
      "MAP at K with Rapids.cuDF = 0.0020690229206157588, took 0.327007532119751 seconds\n"
     ]
    }
   ],
   "source": [
    "start = time.time()\n",
    "cu_map = cu_evaluator.map_at_k(cu_data, cu_pred, k=DEFAULT_K, **cols)\n",
    "cu_map_time = time.time() - start\n",
    "print(\"MAP at K with Rapids.cuDF = {}, took {} seconds\".format(cu_map, cu_map_time))"
   ]
  },
  {
   "cell_type": "code",
   "execution_count": 85,
   "metadata": {},
   "outputs": [],
   "source": [
    "assert math.isclose(pd_map, cu_map, rel_tol=1e-06, abs_tol=1e-06)"
   ]
  },
  {
   "cell_type": "markdown",
   "metadata": {},
   "source": [
    "#### 2.2.5 Summary"
   ]
  },
  {
   "cell_type": "code",
   "execution_count": 86,
   "metadata": {},
   "outputs": [
    {
     "data": {
      "image/png": "[encoded data removed]",
      "text/plain": [
       "<Figure size 432x288 with 1 Axes>"
      ]
     },
     "metadata": {
      "needs_background": "light"
     },
     "output_type": "display_data"
    }
   ],
   "source": [
    "values = [\n",
    "    [pd_prec_time, pd_rec_time, pd_ndcg_time, pd_map_time],\n",
    "    [cu_prec_time, cu_rec_time, cu_ndcg_time, cu_map_time]\n",
    "]\n",
    "labels = ['Pandas', 'cuDF']\n",
    "\n",
    "bar_chart(values, labels, errors=None, x_name=\"Ranking metrics\", y_name=\"Time (sec)\",\n",
    "          tick_labels=['Precision', 'Recall', 'NDCG', 'MAP'])"
   ]
  },
  {
   "cell_type": "code",
   "execution_count": null,
   "metadata": {},
   "outputs": [],
   "source": []
  },
  {
   "cell_type": "code",
   "execution_count": null,
   "metadata": {},
   "outputs": [],
   "source": []
  },
  {
   "cell_type": "code",
   "execution_count": null,
   "metadata": {},
   "outputs": [],
   "source": []
  },
  {
   "cell_type": "code",
   "execution_count": null,
   "metadata": {},
   "outputs": [],
   "source": []
  },
  {
   "cell_type": "code",
   "execution_count": null,
   "metadata": {},
   "outputs": [],
   "source": []
  },
  {
   "cell_type": "code",
   "execution_count": null,
   "metadata": {},
   "outputs": [],
   "source": []
  },
  {
   "cell_type": "code",
   "execution_count": null,
   "metadata": {},
   "outputs": [],
   "source": []
  },
  {
   "cell_type": "code",
   "execution_count": null,
   "metadata": {},
   "outputs": [],
   "source": []
  },
  {
   "cell_type": "code",
   "execution_count": null,
   "metadata": {},
   "outputs": [],
   "source": []
  },
  {
   "cell_type": "code",
   "execution_count": null,
   "metadata": {},
   "outputs": [],
   "source": []
  },
  {
   "cell_type": "code",
   "execution_count": null,
   "metadata": {},
   "outputs": [],
   "source": []
  },
  {
   "cell_type": "code",
   "execution_count": null,
   "metadata": {},
   "outputs": [],
   "source": []
  },
  {
   "cell_type": "code",
   "execution_count": null,
   "metadata": {},
   "outputs": [],
   "source": []
  },
  {
   "cell_type": "code",
   "execution_count": null,
   "metadata": {},
   "outputs": [],
   "source": []
  },
  {
   "cell_type": "code",
   "execution_count": null,
   "metadata": {},
   "outputs": [],
   "source": []
  }
 ],
 "metadata": {
  "kernelspec": {
   "display_name": "reco_rapids",
   "language": "python",
   "name": "reco_rapids"
  },
  "language_info": {
   "codemirror_mode": {
    "name": "ipython",
    "version": 3
   },
   "file_extension": ".py",
   "mimetype": "text/x-python",
   "name": "python",
   "nbconvert_exporter": "python",
   "pygments_lexer": "ipython3",
   "version": "3.6.8"
  }
 },
 "nbformat": 4,
 "nbformat_minor": 2
}
